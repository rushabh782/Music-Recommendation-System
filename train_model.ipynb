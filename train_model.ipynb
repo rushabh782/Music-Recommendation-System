{
 "cells": [
  {
   "cell_type": "code",
   "execution_count": 6,
   "metadata": {},
   "outputs": [
    {
     "name": "stdout",
     "output_type": "stream",
     "text": [
      "KNN model and scaler trained and saved.\n"
     ]
    }
   ],
   "source": [
    "import pandas as pd\n",
    "from sklearn.neighbors import NearestNeighbors\n",
    "from sklearn.preprocessing import StandardScaler\n",
    "import pickle\n",
    "\n",
    "# Load the data\n",
    "data = pd.read_csv('data/songs.csv')\n",
    "\n",
    "# Preprocess the data to select numeric features only\n",
    "numeric_features = data[['rating', 'duration_ms']].select_dtypes(include=['float64', 'int64'])\n",
    "\n",
    "# Fit the StandardScaler on the numeric features\n",
    "scaler = StandardScaler().fit(numeric_features)\n",
    "scaled_numeric_features = scaler.transform(numeric_features)\n",
    "\n",
    "# Train the KNN model\n",
    "knn_model = NearestNeighbors(metric='cosine', algorithm='brute', n_neighbors=10)\n",
    "knn_model.fit(scaled_numeric_features)\n",
    "\n",
    "# Save the trained model and scaler\n",
    "with open('models/knn_model.pkl', 'wb') as model_file:\n",
    "    pickle.dump(knn_model, model_file)\n",
    "with open('models/scaler.pkl', 'wb') as scaler_file:\n",
    "    pickle.dump(scaler, scaler_file)\n",
    "\n",
    "print(\"KNN model and scaler trained and saved.\")\n"
   ]
  }
 ],
 "metadata": {
  "kernelspec": {
   "display_name": "Python 3",
   "language": "python",
   "name": "python3"
  },
  "language_info": {
   "codemirror_mode": {
    "name": "ipython",
    "version": 3
   },
   "file_extension": ".py",
   "mimetype": "text/x-python",
   "name": "python",
   "nbconvert_exporter": "python",
   "pygments_lexer": "ipython3",
   "version": "3.12.4"
  }
 },
 "nbformat": 4,
 "nbformat_minor": 2
}
